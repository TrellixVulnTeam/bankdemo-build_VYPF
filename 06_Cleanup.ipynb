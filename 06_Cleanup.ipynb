{
 "cells": [
  {
   "cell_type": "markdown",
   "metadata": {},
   "source": [
    "# Clean up\n",
    "\n",
    "**Note:** Please set kernel to `Python 3 (Data Science)`\n",
    "\n",
    "---\n"
   ]
  },
  {
   "cell_type": "markdown",
   "metadata": {},
   "source": [
    "## Introduction\n",
    "\n",
    "This notebook is used to delete the relevant IAM roles, policy, RedShift cluster, Glue database and secret in Secret Manager.\n",
    "\n",
    "Note: This notebook does not delete VPC, SageMaker Studio, SageMaker Pipelines, Code*, S3, EFS etc. You can delete the SageMaker project with the AWS CLI command `aws sagemaker delete-project --project-name X`. This will remove the MLOps components like CodePipeline. \n",
    "\n",
    "Before deleting the CloudFormation, the following components needs to be deleted manually:\n",
    "- In SageMaker Studio, shutdown SageMaker Studio by going to `File` -> `Shutdown` -> `Shut down all`\n",
    "- EFS\n",
    "\n",
    "After around 5 minutes, you can delete the CloudFormation stack. Some possible issues and solutions:\n",
    "- If the CloudFormation has issues deleting the VPC, you can do so manually. \n",
    "\n",
    "---"
   ]
  },
  {
   "cell_type": "markdown",
   "metadata": {},
   "source": [
    "### Variables\n",
    "Variable name for secret in Secret Manager. RedShift, Athena and Glue information are stored in the secret."
   ]
  },
  {
   "cell_type": "code",
   "execution_count": null,
   "metadata": {},
   "outputs": [],
   "source": [
    "secret_name='bankdm_redshift_login' \n"
   ]
  },
  {
   "cell_type": "markdown",
   "metadata": {},
   "source": [
    "### Import the necessary libraries and create client session\n"
   ]
  },
  {
   "cell_type": "code",
   "execution_count": null,
   "metadata": {},
   "outputs": [],
   "source": [
    "from botocore.exceptions import ClientError\n",
    "import json\n",
    "import boto3\n",
    "import sagemaker\n",
    "\n",
    "# Get region \n",
    "session = boto3.session.Session()\n",
    "region_name = session.region_name\n",
    "\n",
    "# Get SageMaker session\n",
    "sagemaker_session = sagemaker.Session()\n",
    "bucket = sagemaker_session.default_bucket()\n",
    "\n",
    "redshift = boto3.client('redshift')\n",
    "secretsmanager = boto3.client('secretsmanager')\n",
    "glue = boto3.client('glue')\n",
    "iam = boto3.client('iam')\n",
    "sts = boto3.client('sts')\n",
    "accountID = sts.get_caller_identity()[\"Account\"]  \n",
    "\n",
    "session = boto3.session.Session()\n",
    "region = session.region_name\n",
    "\n",
    "lambda_client = boto3.client('lambda')"
   ]
  },
  {
   "cell_type": "markdown",
   "metadata": {},
   "source": [
    "Load information from secret"
   ]
  },
  {
   "cell_type": "code",
   "execution_count": null,
   "metadata": {},
   "outputs": [],
   "source": [
    "try:\n",
    "    get_secret_value_response = secretsmanager.get_secret_value(\n",
    "            SecretId=secret_name\n",
    "        )\n",
    "    secret_arn=get_secret_value_response['ARN']\n",
    "\n",
    "except ClientError as e:\n",
    "    print(\"Error retrieving secret. Error: \" + e.response['Error']['Message'])\n",
    "    \n",
    "else:\n",
    "    # Depending on whether the secret is a string or binary, one of these fields will be populated.\n",
    "    if 'SecretString' in get_secret_value_response:\n",
    "        secret = get_secret_value_response['SecretString']\n",
    "    else:\n",
    "        secret = base64.b64decode(get_secret_value_response['SecretBinary'])\n",
    "            \n",
    "secret_json = json.loads(secret)\n",
    "redshift_cluster_identifier = secret_json['dbClusterIdentifier']\n",
    "\n",
    "database_name_glue = secret_json['database_name_glue']\n"
   ]
  },
  {
   "cell_type": "markdown",
   "metadata": {},
   "source": [
    "Delete RedShift cluster"
   ]
  },
  {
   "cell_type": "code",
   "execution_count": null,
   "metadata": {},
   "outputs": [],
   "source": [
    "try:\n",
    "    response = redshift.delete_cluster(\n",
    "        ClusterIdentifier=redshift_cluster_identifier,\n",
    "        SkipFinalClusterSnapshot=True\n",
    "    )\n",
    "    \n",
    "except ClientError as e:\n",
    "    if e.response['Error']['Code'] == 'ClusterNotFound':\n",
    "        print(\"Cluster does not exists. This is ok.\")\n",
    "    else:\n",
    "        print(\"Unexpected error: %s\" % e)"
   ]
  },
  {
   "cell_type": "markdown",
   "metadata": {},
   "source": [
    "Delete Glue database"
   ]
  },
  {
   "cell_type": "code",
   "execution_count": null,
   "metadata": {},
   "outputs": [],
   "source": [
    "try:\n",
    "    response = glue.delete_database(\n",
    "        Name=database_name_glue\n",
    "    )\n",
    "    \n",
    "except ClientError as e:\n",
    "    if e.response['Error']['Code'] == 'EntityNotFoundException':\n",
    "        print(\"Glue database does not exists. This is ok.\")\n",
    "    else:\n",
    "        print(\"Unexpected error: %s\" % e)"
   ]
  },
  {
   "cell_type": "markdown",
   "metadata": {},
   "source": [
    "Delete secret"
   ]
  },
  {
   "cell_type": "code",
   "execution_count": null,
   "metadata": {},
   "outputs": [],
   "source": [
    "try:\n",
    "    response = secretsmanager.delete_secret(\n",
    "        SecretId=secret_name,\n",
    "        ForceDeleteWithoutRecovery=True\n",
    "    )\n",
    "    \n",
    "except ClientError as e:\n",
    "    if e.response['Error']['Code'] == 'ResourceNotFoundException':\n",
    "        print(\"Secret does not exists. This is ok.\")\n",
    "    else:\n",
    "        print(\"Unexpected error: %s\" % e)"
   ]
  },
  {
   "cell_type": "markdown",
   "metadata": {},
   "source": [
    "### Delete IAM roles and policies"
   ]
  },
  {
   "cell_type": "code",
   "execution_count": null,
   "metadata": {},
   "outputs": [],
   "source": [
    "role='BankDM-RedShift'\n",
    "\n",
    "# Detach AWS policy\n",
    "policyname = ['SecretsManagerReadWrite', 'AmazonRedshiftFullAccess', 'AmazonSageMakerFullAccess', 'AmazonS3FullAccess', 'AmazonAthenaFullAccess']\n",
    "for i in range(len(policyname)):\n",
    "    policy = f'arn:aws:iam::aws:policy/{policyname[i]}'\n",
    "    print(policy)\n",
    "    try:\n",
    "        response = iam.detach_role_policy(\n",
    "            RoleName=role,\n",
    "            PolicyArn=policy\n",
    "        )\n",
    "    \n",
    "    except ClientError as e:\n",
    "        if e.response['Error']['Code'] == 'NoSuchEntity':\n",
    "            print(\"IAM policy not attached to the role. This is ok.\")\n",
    "        else:\n",
    "            print(\"Unexpected error: %s\" % e)\n",
    "\n",
    "# Delete role\n",
    "try:\n",
    "    response = iam.delete_role(\n",
    "        RoleName=role,\n",
    "    )\n",
    "\n",
    "except ClientError as e:\n",
    "    if e.response['Error']['Code'] == 'NoSuchEntityException':\n",
    "        print(\"Role does not exists. This is ok.\")\n",
    "    else:\n",
    "        print(\"Unexpected error: %s\" % e)\n"
   ]
  },
  {
   "cell_type": "markdown",
   "metadata": {},
   "source": [
    "### Delete Lambda function"
   ]
  },
  {
   "cell_type": "code",
   "execution_count": null,
   "metadata": {},
   "outputs": [],
   "source": [
    "try:\n",
    "    response = lambda_client.delete_function(\n",
    "            FunctionName='bankdm-redshift-dl',\n",
    "        )\n",
    "except ClientError as e:\n",
    "    if e.response['Error']['Code'] == 'ResourceNotFoundException':\n",
    "        print(\"Lambda function not found. This is ok\")\n",
    "    else:\n",
    "        print(\"Unexpected error: %s\" % e) "
   ]
  },
  {
   "cell_type": "markdown",
   "metadata": {},
   "source": [
    "### Delete Lambda role"
   ]
  },
  {
   "cell_type": "code",
   "execution_count": null,
   "metadata": {},
   "outputs": [],
   "source": [
    "role='BankDM-Lambda'\n",
    "\n",
    "# Detach AWS policy\n",
    "policyname = ['SecretsManagerReadWrite', 'AmazonRedshiftFullAccess', 'AmazonSageMakerFullAccess', 'AmazonS3FullAccess']\n",
    "for i in range(len(policyname)):\n",
    "    policy = f'arn:aws:iam::aws:policy/{policyname[i]}'\n",
    "    print(policy)\n",
    "    try:\n",
    "        response = iam.detach_role_policy(\n",
    "            RoleName=role,\n",
    "            PolicyArn=policy\n",
    "        )\n",
    "    \n",
    "    except ClientError as e:\n",
    "        if e.response['Error']['Code'] == 'NoSuchEntity':\n",
    "            print(\"IAM policy not attached to the role. This is ok.\")\n",
    "        else:\n",
    "            print(\"Unexpected error: %s\" % e)\n",
    "\n",
    "# Detach service role\n",
    "policyname = ['AWSLambdaBasicExecutionRole']\n",
    "for i in range(len(policyname)):\n",
    "    policy = f'arn:aws:iam::aws:policy/service-role/{policyname[i]}'\n",
    "    print(policy)\n",
    "    try:\n",
    "        response = iam.detach_role_policy(\n",
    "            RoleName=role,\n",
    "            PolicyArn=policy\n",
    "        )\n",
    "    \n",
    "    except ClientError as e:\n",
    "        if e.response['Error']['Code'] == 'NoSuchEntity':\n",
    "            print(\"IAM policy not attached to the role. This is ok.\")\n",
    "        else:\n",
    "            print(\"Unexpected error: %s\" % e)\n",
    "\n",
    "            \n",
    "# Delete role\n",
    "try:\n",
    "    response = iam.delete_role(\n",
    "        RoleName=role,\n",
    "    )\n",
    "\n",
    "except ClientError as e:\n",
    "    if e.response['Error']['Code'] == 'NoSuchEntityException':\n",
    "        print(\"Role does not exists. This is ok.\")\n",
    "    else:\n",
    "        print(\"Unexpected error: %s\" % e)\n"
   ]
  },
  {
   "cell_type": "code",
   "execution_count": null,
   "metadata": {},
   "outputs": [],
   "source": []
  }
 ],
 "metadata": {
  "instance_type": "ml.t3.medium",
  "kernelspec": {
   "display_name": "Python 3 (Data Science)",
   "language": "python",
   "name": "python3__SAGEMAKER_INTERNAL__arn:aws:sagemaker:ap-southeast-1:492261229750:image/datascience-1.0"
  },
  "language_info": {
   "codemirror_mode": {
    "name": "ipython",
    "version": 3
   },
   "file_extension": ".py",
   "mimetype": "text/x-python",
   "name": "python",
   "nbconvert_exporter": "python",
   "pygments_lexer": "ipython3",
   "version": "3.7.10"
  }
 },
 "nbformat": 4,
 "nbformat_minor": 4
}
