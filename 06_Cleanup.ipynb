{
 "cells": [
  {
   "cell_type": "markdown",
   "metadata": {},
   "source": [
    "# This notebook is used to delete the relevant IAM roles, policy, RedShift cluster, Glue database and secret in Secret Manager.\n",
    "Note: This notebook does not delete VPC, SageMaker Studio, S3, EFS."
   ]
  },
  {
   "cell_type": "markdown",
   "metadata": {},
   "source": [
    "## Variables"
   ]
  },
  {
   "cell_type": "code",
   "execution_count": 1,
   "metadata": {},
   "outputs": [],
   "source": [
    "secret_name='bankdemo_redshift_login' \n"
   ]
  },
  {
   "cell_type": "markdown",
   "metadata": {},
   "source": [
    "## Delete RedShift cluster, Glue database, secret\n"
   ]
  },
  {
   "cell_type": "code",
   "execution_count": 2,
   "metadata": {},
   "outputs": [],
   "source": [
    "from botocore.exceptions import ClientError\n",
    "import json\n",
    "import boto3\n",
    "import sagemaker\n",
    "\n",
    "# Get region \n",
    "session = boto3.session.Session()\n",
    "region_name = session.region_name\n",
    "\n",
    "# Get SageMaker session\n",
    "sagemaker_session = sagemaker.Session()\n",
    "bucket = sagemaker_session.default_bucket()\n",
    "\n",
    "redshift = boto3.client('redshift')\n",
    "secretsmanager = boto3.client('secretsmanager')\n",
    "glue = boto3.client('glue')\n",
    "iam = boto3.client('iam')\n",
    "sts = boto3.client('sts')\n",
    "accountID = sts.get_caller_identity()[\"Account\"]  "
   ]
  },
  {
   "cell_type": "markdown",
   "metadata": {},
   "source": [
    "Load information from secret"
   ]
  },
  {
   "cell_type": "code",
   "execution_count": 3,
   "metadata": {},
   "outputs": [],
   "source": [
    "session = boto3.session.Session()\n",
    "region = session.region_name\n",
    "\n",
    "try:\n",
    "    get_secret_value_response = secretsmanager.get_secret_value(\n",
    "            SecretId=secret_name\n",
    "        )\n",
    "    secret_arn=get_secret_value_response['ARN']\n",
    "\n",
    "except ClientError as e:\n",
    "    print(\"Error retrieving secret. Error: \" + e.response['Error']['Message'])\n",
    "    \n",
    "else:\n",
    "    # Depending on whether the secret is a string or binary, one of these fields will be populated.\n",
    "    if 'SecretString' in get_secret_value_response:\n",
    "        secret = get_secret_value_response['SecretString']\n",
    "    else:\n",
    "        secret = base64.b64decode(get_secret_value_response['SecretBinary'])\n",
    "            \n",
    "secret_json = json.loads(secret)\n",
    "redshift_cluster_identifier = secret_json['dbClusterIdentifier']\n",
    "\n",
    "database_name_glue = secret_json['database_name_glue']\n"
   ]
  },
  {
   "cell_type": "markdown",
   "metadata": {},
   "source": [
    "Delete RedShift cluster"
   ]
  },
  {
   "cell_type": "code",
   "execution_count": 4,
   "metadata": {},
   "outputs": [],
   "source": [
    "try:\n",
    "    response = redshift.delete_cluster(\n",
    "        ClusterIdentifier=redshift_cluster_identifier,\n",
    "        SkipFinalClusterSnapshot=True\n",
    "    )\n",
    "    \n",
    "except ClientError as e:\n",
    "    if e.response['Error']['Code'] == 'ClusterNotFound':\n",
    "        print(\"Cluster does not exists. This is ok.\")\n",
    "    else:\n",
    "        print(\"Unexpected error: %s\" % e)"
   ]
  },
  {
   "cell_type": "markdown",
   "metadata": {},
   "source": [
    "Delete Glue database"
   ]
  },
  {
   "cell_type": "code",
   "execution_count": 5,
   "metadata": {},
   "outputs": [],
   "source": [
    "try:\n",
    "    response = glue.delete_database(\n",
    "        Name=database_name_glue\n",
    "    )\n",
    "    \n",
    "except ClientError as e:\n",
    "    if e.response['Error']['Code'] == 'EntityNotFoundException':\n",
    "        print(\"Glue database does not exists. This is ok.\")\n",
    "    else:\n",
    "        print(\"Unexpected error: %s\" % e)"
   ]
  },
  {
   "cell_type": "markdown",
   "metadata": {},
   "source": [
    "Delete secret"
   ]
  },
  {
   "cell_type": "code",
   "execution_count": 6,
   "metadata": {},
   "outputs": [],
   "source": [
    "try:\n",
    "    response = secretsmanager.delete_secret(\n",
    "        SecretId=secret_name,\n",
    "        ForceDeleteWithoutRecovery=True\n",
    "    )\n",
    "    \n",
    "except ClientError as e:\n",
    "    if e.response['Error']['Code'] == 'ResourceNotFoundException':\n",
    "        print(\"Secret does not exists. This is ok.\")\n",
    "    else:\n",
    "        print(\"Unexpected error: %s\" % e)"
   ]
  },
  {
   "cell_type": "markdown",
   "metadata": {},
   "source": [
    "## Delete IAM roles and policies"
   ]
  },
  {
   "cell_type": "code",
   "execution_count": 7,
   "metadata": {},
   "outputs": [
    {
     "name": "stdout",
     "output_type": "stream",
     "text": [
      "arn:aws:iam::138604873012:policy/BankDemo_RedshiftPolicyToS3\n",
      "arn:aws:iam::138604873012:policy/BankDemo_RedshiftPolicyToAthena\n",
      "arn:aws:iam::aws:policy/SecretsManagerReadWrite\n",
      "arn:aws:iam::aws:policy/AmazonRedshiftFullAccess\n",
      "arn:aws:iam::aws:policy/AmazonSageMakerFullAccess\n"
     ]
    }
   ],
   "source": [
    "role='BankDemo'\n",
    "\n",
    "# Delete self created policy\n",
    "policyname = ['BankDemo_RedshiftPolicyToS3', 'BankDemo_RedshiftPolicyToAthena']\n",
    "for i in range(len(policyname)):\n",
    "    policy = f'arn:aws:iam::{accountID}:policy/{policyname[i]}'\n",
    "    print(policy)\n",
    "    try:\n",
    "        response = iam.detach_role_policy(\n",
    "            RoleName=role,\n",
    "            PolicyArn=policy\n",
    "        )\n",
    "    \n",
    "    except ClientError as e:\n",
    "        if e.response['Error']['Code'] == 'NoSuchEntity':\n",
    "            print(\"IAM policy not attached to the role. This is ok.\")\n",
    "        else:\n",
    "            print(\"Unexpected error: %s\" % e)\n",
    "            \n",
    "    try:\n",
    "        response = iam.delete_policy(\n",
    "            PolicyArn=policy\n",
    "        )\n",
    "\n",
    "    except ClientError as e:\n",
    "        if e.response['Error']['Code'] == 'NoSuchEntityException':\n",
    "            print(\"IAM policy does not exists. This is ok.\")\n",
    "        else:\n",
    "            print(\"Unexpected error: %s\" % e)\n",
    "\n",
    "# Delete AWS policy\n",
    "policyname = ['SecretsManagerReadWrite', 'AmazonRedshiftFullAccess', 'AmazonSageMakerFullAccess']\n",
    "for i in range(len(policyname)):\n",
    "    policy = f'arn:aws:iam::aws:policy/{policyname[i]}'\n",
    "    print(policy)\n",
    "    try:\n",
    "        response = iam.detach_role_policy(\n",
    "            RoleName=role,\n",
    "            PolicyArn=policy\n",
    "        )\n",
    "    \n",
    "    except ClientError as e:\n",
    "        if e.response['Error']['Code'] == 'NoSuchEntity':\n",
    "            print(\"IAM policy not attached to the role. This is ok.\")\n",
    "        else:\n",
    "            print(\"Unexpected error: %s\" % e)\n",
    "        "
   ]
  }
 ],
 "metadata": {
  "instance_type": "ml.t3.medium",
  "kernelspec": {
   "display_name": "Python 3 (Data Science)",
   "language": "python",
   "name": "python3__SAGEMAKER_INTERNAL__arn:aws:sagemaker:ap-southeast-1:492261229750:image/datascience-1.0"
  },
  "language_info": {
   "codemirror_mode": {
    "name": "ipython",
    "version": 3
   },
   "file_extension": ".py",
   "mimetype": "text/x-python",
   "name": "python",
   "nbconvert_exporter": "python",
   "pygments_lexer": "ipython3",
   "version": "3.7.10"
  }
 },
 "nbformat": 4,
 "nbformat_minor": 4
}
