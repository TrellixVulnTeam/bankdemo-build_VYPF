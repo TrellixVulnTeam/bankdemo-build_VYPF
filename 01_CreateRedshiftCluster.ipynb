{
 "cells": [
  {
   "cell_type": "markdown",
   "metadata": {},
   "source": [
    "# This notebook is used to create the relevant IAM roles, policy, RedShift cluster and secret in Secret Manager.\n",
    "\n",
    "**Note:** Please set kernel to `Python 3 (Data Science)"
   ]
  },
  {
   "cell_type": "markdown",
   "metadata": {},
   "source": [
    "### Variables\n",
    "Variable names for secret, RedShift, Athena and Glue."
   ]
  },
  {
   "cell_type": "code",
   "execution_count": null,
   "metadata": {},
   "outputs": [],
   "source": [
    "secret_name='bankdemo_redshift_login' \n",
    "\n",
    "# Random function to generate password.\n",
    "import random\n",
    "import string\n",
    "def random_char(y):\n",
    "       return ''.join(random.choice(string.ascii_letters) for x in range(y))\n",
    "    \n",
    "# The variables below are only required for notebook 01\n",
    "# The RedShift, Athena and Glue information are stored in Secrets Manager\n",
    "subnet_name = 'Private subnet' # Change this is the private subnet name is different\n",
    "\n",
    "database_name_redshift = 'bankdemo'\n",
    "database_name_glue = 'bankdemo'\n",
    "\n",
    "schema_redshift = 'dm'\n",
    "schema_athena = 'athena' # have to be athena\n",
    "\n",
    "table_name_glue = 'bankdemo_glue'\n",
    "table_name_redshift = 'data'\n",
    "\n",
    "\n",
    "# Redshift configuration parameters\n",
    "redshift_cluster_identifier = 'bankdemo'\n",
    "database_name = 'bankdemo'\n",
    "cluster_type = 'single-node' # or multi-node\n",
    "\n",
    "master_user_name = 'bankdemo'\n",
    "master_user_pw = random_char(16) + '1' # the password requires a number\n",
    "\n",
    "# Note that only some Instance Types support Redshift Query Editor \n",
    "# (https://docs.aws.amazon.com/redshift/latest/mgmt/query-editor.html)\n",
    "node_type = 'dc2.large'\n",
    "# number_nodes = '1' # for multi-node. Also uncomment this line below: NumberOfNodes=int(number_nodes),\n",
    "\n",
    "# Set the security group ID if not using the default one\n",
    "# Also comment the code below to get the security group ID\n",
    "# security_group_id = ''\n"
   ]
  },
  {
   "cell_type": "markdown",
   "metadata": {},
   "source": [
    "### Import the necessary libraries and create client session\n"
   ]
  },
  {
   "cell_type": "code",
   "execution_count": null,
   "metadata": {},
   "outputs": [],
   "source": [
    "import json\n",
    "import boto3\n",
    "from botocore.exceptions import ClientError\n",
    "from botocore.config import Config\n",
    "import time\n",
    "import sagemaker\n",
    "\n",
    "iam = boto3.client('iam')\n",
    "sts = boto3.client('sts')\n",
    "accountID = sts.get_caller_identity()[\"Account\"]  \n",
    "redshift = boto3.client('redshift')\n",
    "sm = boto3.client('sagemaker')\n",
    "ec2 = boto3.client('ec2')\n",
    "secretsmanager = boto3.client('secretsmanager')\n",
    "\n",
    "sagemaker_session = sagemaker.Session()\n",
    "role = sagemaker.get_execution_role()\n"
   ]
  },
  {
   "cell_type": "markdown",
   "metadata": {},
   "source": [
    "### Adding permissions to SageMaker Execution role"
   ]
  },
  {
   "cell_type": "code",
   "execution_count": null,
   "metadata": {},
   "outputs": [],
   "source": [
    "role_name = role.split(\"/\")[-1]\n",
    "\n",
    "print(\"Role name: {}\".format(role_name))"
   ]
  },
  {
   "cell_type": "code",
   "execution_count": null,
   "metadata": {},
   "outputs": [],
   "source": [
    "setup_iam_roles_passed = False\n",
    "admin = False\n",
    "post_policies = iam.list_attached_role_policies(RoleName=role_name)[\"AttachedPolicies\"]\n",
    "for post_policy in post_policies:\n",
    "    if post_policy[\"PolicyName\"] == \"AdministratorAccess\":\n",
    "        admin = True\n",
    "        break\n",
    "\n",
    "setup_iam_roles_passed = True\n",
    "print(\"[OK] You are all set up to continue with this workshop!\")"
   ]
  },
  {
   "cell_type": "code",
   "execution_count": null,
   "metadata": {},
   "outputs": [],
   "source": [
    "if not admin:\n",
    "    pre_policies = iam.list_attached_role_policies(RoleName=role_name)[\"AttachedPolicies\"]\n",
    "\n",
    "    required_policies = [\"IAMFullAccess\"]\n",
    "\n",
    "    for pre_policy in pre_policies:\n",
    "        for role_req in required_policies:\n",
    "            if pre_policy[\"PolicyName\"] == role_req:\n",
    "                print(\"Attached: {}\".format(pre_policy[\"PolicyName\"]))\n",
    "                try:\n",
    "                    required_policies.remove(pre_policy[\"PolicyName\"])\n",
    "                except:\n",
    "                    pass\n",
    "\n",
    "    if len(required_policies) > 0:\n",
    "        print(\n",
    "            \"*************** [ERROR] You need to attach the following policies in order to continue with this workshop *****************\\n\"\n",
    "        )\n",
    "        for required_policy in required_policies:\n",
    "            print(\"Not Attached: {}\".format(required_policy))\n",
    "    else:\n",
    "        print(\"[OK] You are all set to continue with this notebook!\")\n",
    "else:\n",
    "    print(\"[OK] You are all set to continue with this notebook!\")"
   ]
  },
  {
   "cell_type": "markdown",
   "metadata": {},
   "source": [
    "#### Create a function to add policy to the role"
   ]
  },
  {
   "cell_type": "code",
   "execution_count": null,
   "metadata": {},
   "outputs": [],
   "source": [
    "def addPolicy(policy, role_name):\n",
    "    try:\n",
    "        response = iam.attach_role_policy(PolicyArn=\"arn:aws:iam::aws:policy/{}\".format(policy), RoleName=role_name)\n",
    "        print(\"Policy {} has been succesfully attached to role: {}\".format(policy, role_name))\n",
    "    except ClientError as e:\n",
    "        if e.response[\"Error\"][\"Code\"] == \"EntityAlreadyExists\":\n",
    "            print(\"[OK] Policy is already attached.\")\n",
    "        elif e.response[\"Error\"][\"Code\"] == \"LimitExceeded\":\n",
    "            print(\"[OK]\")\n",
    "        else:\n",
    "            print(\"*************** [ERROR] {} *****************\".format(e))\n"
   ]
  },
  {
   "cell_type": "markdown",
   "metadata": {},
   "source": [
    "#### Add the following policies to the role."
   ]
  },
  {
   "cell_type": "code",
   "execution_count": null,
   "metadata": {},
   "outputs": [],
   "source": [
    "addPolicy(\"AmazonRedshiftFullAccess\", role_name)\n",
    "addPolicy(\"SecretsManagerReadWrite\", role_name)\n",
    "addPolicy(\"AmazonAthenaFullAccess\", role_name)\n"
   ]
  },
  {
   "cell_type": "markdown",
   "metadata": {},
   "source": [
    "### Add permissions to BankDemo role\n",
    "#### Create AssumeRolePolicyDocument"
   ]
  },
  {
   "cell_type": "code",
   "execution_count": null,
   "metadata": {},
   "outputs": [],
   "source": [
    "role = f\"arn:aws:iam::{accountID}:role/service-role/AmazonSageMakerServiceCatalogProductsUseRole\"\n",
    "assume_role_policy_doc = {\n",
    "  \"Version\": \"2012-10-17\",\n",
    "  \"Statement\": [\n",
    "    {\n",
    "      \"Effect\": \"Allow\",\n",
    "      \"Principal\": {\n",
    "        \"AWS\": role,\n",
    "        \"Service\": [\"sagemaker.amazonaws.com\", \"redshift.amazonaws.com\"]\n",
    "      },\n",
    "      \"Action\": \"sts:AssumeRole\"\n",
    "    }\n",
    "  ]\n",
    "}\n",
    "\n",
    "assume_role_policy_doc"
   ]
  },
  {
   "cell_type": "markdown",
   "metadata": {},
   "source": [
    "#### Create Role"
   ]
  },
  {
   "cell_type": "code",
   "execution_count": null,
   "metadata": {},
   "outputs": [],
   "source": [
    "iam_redshift_role_name = 'BankDemo'"
   ]
  },
  {
   "cell_type": "code",
   "execution_count": null,
   "metadata": {},
   "outputs": [],
   "source": [
    "try:\n",
    "    iam_role_redshift = iam.create_role(\n",
    "        RoleName=iam_redshift_role_name,\n",
    "        AssumeRolePolicyDocument=json.dumps(assume_role_policy_doc),\n",
    "        Description='Bank Redshift Role'\n",
    "    )\n",
    "except ClientError as e:\n",
    "    if e.response['Error']['Code'] == 'EntityAlreadyExists':\n",
    "        print(\"Role already exists\")\n",
    "    else:\n",
    "        print(\"Unexpected error: %s\" % e)"
   ]
  },
  {
   "cell_type": "markdown",
   "metadata": {},
   "source": [
    "#### Get the Role ARN"
   ]
  },
  {
   "cell_type": "code",
   "execution_count": null,
   "metadata": {},
   "outputs": [],
   "source": [
    "role = iam.get_role(RoleName=iam_redshift_role_name)\n",
    "iam_role_redshift_arn = role['Role']['Arn']\n",
    "print(iam_role_redshift_arn)"
   ]
  },
  {
   "cell_type": "markdown",
   "metadata": {},
   "source": [
    "### Create Self-Managed Policies"
   ]
  },
  {
   "cell_type": "markdown",
   "metadata": {},
   "source": [
    "#### Define Policies\n",
    "#### arn:aws:iam::aws:policy/AmazonS3FullAccess"
   ]
  },
  {
   "cell_type": "code",
   "execution_count": null,
   "metadata": {},
   "outputs": [],
   "source": [
    "my_redshift_to_s3 = {\n",
    "    \"Version\": \"2012-10-17\",\n",
    "    \"Statement\": [\n",
    "        {\n",
    "            \"Effect\": \"Allow\",\n",
    "            \"Action\": \"s3:*\",\n",
    "            \"Resource\": \"*\"\n",
    "        }\n",
    "    ]\n",
    "}"
   ]
  },
  {
   "cell_type": "markdown",
   "metadata": {},
   "source": [
    "#### arn:aws:iam::aws:policy/AmazonAthenaFullAccess"
   ]
  },
  {
   "cell_type": "code",
   "execution_count": null,
   "metadata": {},
   "outputs": [],
   "source": [
    "my_redshift_to_athena = {\n",
    "    \"Version\": \"2012-10-17\",\n",
    "    \"Statement\": [\n",
    "        {\n",
    "            \"Effect\": \"Allow\",\n",
    "            \"Action\": [\n",
    "                \"athena:*\"\n",
    "            ],\n",
    "            \"Resource\": [\n",
    "                \"*\"\n",
    "            ]\n",
    "        },\n",
    "        {\n",
    "            \"Effect\": \"Allow\",\n",
    "            \"Action\": [\n",
    "                \"glue:CreateDatabase\",\n",
    "                \"glue:DeleteDatabase\",\n",
    "                \"glue:GetDatabase\",\n",
    "                \"glue:GetDatabases\",\n",
    "                \"glue:UpdateDatabase\",\n",
    "                \"glue:CreateTable\",\n",
    "                \"glue:DeleteTable\",\n",
    "                \"glue:BatchDeleteTable\",\n",
    "                \"glue:UpdateTable\",\n",
    "                \"glue:GetTable\",\n",
    "                \"glue:GetTables\",\n",
    "                \"glue:BatchCreatePartition\",\n",
    "                \"glue:CreatePartition\",\n",
    "                \"glue:DeletePartition\",\n",
    "                \"glue:BatchDeletePartition\",\n",
    "                \"glue:UpdatePartition\",\n",
    "                \"glue:GetPartition\",\n",
    "                \"glue:GetPartitions\",\n",
    "                \"glue:BatchGetPartition\"\n",
    "            ],\n",
    "            \"Resource\": [\n",
    "                \"*\"\n",
    "            ]\n",
    "        },\n",
    "        {\n",
    "            \"Effect\": \"Allow\",\n",
    "            \"Action\": [\n",
    "                \"s3:GetBucketLocation\",\n",
    "                \"s3:GetObject\",\n",
    "                \"s3:ListBucket\",\n",
    "                \"s3:ListBucketMultipartUploads\",\n",
    "                \"s3:ListMultipartUploadParts\",\n",
    "                \"s3:AbortMultipartUpload\",\n",
    "                \"s3:CreateBucket\",\n",
    "                \"s3:PutObject\"\n",
    "            ],\n",
    "            \"Resource\": [\n",
    "                \"arn:aws:s3:::aws-athena-query-results-*\"\n",
    "            ]\n",
    "        },\n",
    "        {\n",
    "            \"Effect\": \"Allow\",\n",
    "            \"Action\": [\n",
    "                \"s3:GetObject\",\n",
    "                \"s3:ListBucket\"\n",
    "            ],\n",
    "            \"Resource\": [\n",
    "                \"arn:aws:s3:::athena-examples*\"\n",
    "            ]\n",
    "        },\n",
    "        {\n",
    "            \"Effect\": \"Allow\",\n",
    "            \"Action\": [\n",
    "                \"s3:ListBucket\",\n",
    "                \"s3:GetBucketLocation\",\n",
    "                \"s3:ListAllMyBuckets\"\n",
    "            ],\n",
    "            \"Resource\": [\n",
    "                \"*\"\n",
    "            ]\n",
    "        },\n",
    "        {\n",
    "            \"Effect\": \"Allow\",\n",
    "            \"Action\": [\n",
    "                \"sns:ListTopics\",\n",
    "                \"sns:GetTopicAttributes\"\n",
    "            ],\n",
    "            \"Resource\": [\n",
    "                \"*\"\n",
    "            ]\n",
    "        },\n",
    "        {\n",
    "            \"Effect\": \"Allow\",\n",
    "            \"Action\": [\n",
    "                \"cloudwatch:PutMetricAlarm\",\n",
    "                \"cloudwatch:DescribeAlarms\",\n",
    "                \"cloudwatch:DeleteAlarms\"\n",
    "            ],\n",
    "            \"Resource\": [\n",
    "                \"*\"\n",
    "            ]\n",
    "        },\n",
    "        {\n",
    "            \"Effect\": \"Allow\",\n",
    "            \"Action\": [\n",
    "                \"lakeformation:GetDataAccess\"\n",
    "            ],\n",
    "            \"Resource\": [\n",
    "                \"*\"\n",
    "            ]\n",
    "        }\n",
    "    ]\n",
    "}"
   ]
  },
  {
   "cell_type": "markdown",
   "metadata": {},
   "source": [
    "#### Create Policy Objects"
   ]
  },
  {
   "cell_type": "code",
   "execution_count": null,
   "metadata": {},
   "outputs": [],
   "source": [
    "policyName = 'BankDemo_RedshiftPolicyToS3'\n",
    "try:\n",
    "    policy_redshift_s3 = iam.create_policy(\n",
    "      PolicyName=policyName,\n",
    "      PolicyDocument=json.dumps(my_redshift_to_s3)\n",
    "    )\n",
    "except ClientError as e:\n",
    "    if e.response['Error']['Code'] == 'EntityAlreadyExists':\n",
    "        print(\"Policy already exists\")\n",
    "    else:\n",
    "        print(\"Unexpected error: %s\" % e)\n",
    "\n",
    "# Get ARN\n",
    "account_id = sts.get_caller_identity()['Account']\n",
    "policy_redshift_s3_arn = f'arn:aws:iam::{account_id}:policy/{policyName}'\n",
    "print(policy_redshift_s3_arn)"
   ]
  },
  {
   "cell_type": "code",
   "execution_count": null,
   "metadata": {},
   "outputs": [],
   "source": [
    "policyName = 'BankDemo_RedshiftPolicyToAthena'\n",
    "try:\n",
    "    policy_redshift_athena = iam.create_policy(\n",
    "      PolicyName=policyName,\n",
    "      PolicyDocument=json.dumps(my_redshift_to_athena)\n",
    "    )\n",
    "except ClientError as e:\n",
    "    if e.response['Error']['Code'] == 'EntityAlreadyExists':\n",
    "        print(\"Policy already exists\")\n",
    "    else:\n",
    "        print(\"Unexpected error: %s\" % e)\n",
    "\n",
    "# Get ARN\n",
    "account_id = sts.get_caller_identity()['Account']\n",
    "policy_redshift_athena_arn = f'arn:aws:iam::{account_id}:policy/{policyName}'\n",
    "print(policy_redshift_athena_arn)\n"
   ]
  },
  {
   "cell_type": "markdown",
   "metadata": {},
   "source": [
    "#### Create function to add policy to RedShift role"
   ]
  },
  {
   "cell_type": "code",
   "execution_count": null,
   "metadata": {},
   "outputs": [],
   "source": [
    "def addCustomPolicy(policyArn, role_name):\n",
    "    try:\n",
    "        response = iam.attach_role_policy(\n",
    "            PolicyArn=policyArn,\n",
    "            RoleName=role_name\n",
    "        )\n",
    "    except ClientError as e:\n",
    "        if e.response['Error']['Code'] == 'EntityAlreadyExists':\n",
    "            print(\"Policy is already attached. This is ok.\")\n",
    "        else:\n",
    "            print(\"Unexpected error: %s\" % e)"
   ]
  },
  {
   "cell_type": "markdown",
   "metadata": {},
   "source": [
    "#### Attach custom policy to role"
   ]
  },
  {
   "cell_type": "code",
   "execution_count": null,
   "metadata": {},
   "outputs": [],
   "source": [
    "addCustomPolicy(policy_redshift_athena_arn, iam_redshift_role_name)\n",
    "addCustomPolicy(policy_redshift_s3_arn, iam_redshift_role_name)\n",
    "\n",
    "        "
   ]
  },
  {
   "cell_type": "markdown",
   "metadata": {},
   "source": [
    "#### Attach AWS built-in policy to role\n"
   ]
  },
  {
   "cell_type": "code",
   "execution_count": null,
   "metadata": {},
   "outputs": [],
   "source": [
    "addPolicy(\"SecretsManagerReadWrite\", iam_redshift_role_name)\n",
    "addPolicy(\"AmazonRedshiftFullAccess\", iam_redshift_role_name)\n",
    "addPolicy(\"AmazonSageMakerFullAccess\", iam_redshift_role_name)\n"
   ]
  },
  {
   "cell_type": "markdown",
   "metadata": {},
   "source": [
    "### Get Security Group ID \n",
    "\n",
    "* Make sure the Redshift VPC is the same this notebook is running within\n",
    "* Make sure the VPC has the following 2 properties enabled\n",
    " *     DNS resolution = Enabled\n",
    " *     DNS hostnames = Enabled\n",
    "* This allows private, internal access to Redshift from this SageMaker notebook using the fully qualified endpoint name."
   ]
  },
  {
   "cell_type": "code",
   "execution_count": null,
   "metadata": {},
   "outputs": [],
   "source": [
    "try:\n",
    "    domain_id = sm.list_domains()['Domains'][0]['DomainId'] #['NotebookInstances'][0]['NotebookInstanceName']\n",
    "    describe_domain_response = sm.describe_domain(DomainId=domain_id)\n",
    "    vpc_id = describe_domain_response['VpcId']\n",
    "    security_groups = ec2.describe_security_groups(Filters=[{\"Name\": \"vpc-id\", \"Values\": [vpc_id]}])['SecurityGroups']\n",
    "    security_group_id = ''\n",
    "\n",
    "    for sg in security_groups:\n",
    "        if(sg['GroupName'] == 'default'):\n",
    "            security_group_id = sg['GroupId']\n",
    "\n",
    "    print(security_group_id)    \n",
    "except:\n",
    "    pass\n"
   ]
  },
  {
   "cell_type": "markdown",
   "metadata": {},
   "source": [
    "### Create Redshift Cluster"
   ]
  },
  {
   "cell_type": "markdown",
   "metadata": {},
   "source": [
    "Get the subnet ID for the private subnet. "
   ]
  },
  {
   "cell_type": "code",
   "execution_count": null,
   "metadata": {},
   "outputs": [],
   "source": [
    "sn_all = ec2.describe_subnets(Filters=[{\"Name\": \"vpc-id\", \"Values\": [vpc_id]}])\n",
    "subnetId = ''\n",
    "for sn in sn_all['Subnets'] :\n",
    "    if(sn['Tags'][0]['Value'] == subnet_name):\n",
    "       subnetId = sn['SubnetId']\n",
    "subnetId"
   ]
  },
  {
   "cell_type": "markdown",
   "metadata": {},
   "source": [
    "Create the RedShift subnet group and create the RedShift cluster."
   ]
  },
  {
   "cell_type": "code",
   "execution_count": null,
   "metadata": {},
   "outputs": [],
   "source": [
    "try:\n",
    "    response = redshift.create_cluster_subnet_group(\n",
    "        ClusterSubnetGroupName='bankdemo-subnet',\n",
    "        Description='string',\n",
    "        SubnetIds=[\n",
    "            subnetId,\n",
    "        ]\n",
    "    )\n",
    "    \n",
    "except ClientError as e:\n",
    "    if e.response['Error']['Code'] == 'ClusterSubnetGroupAlreadyExists':\n",
    "        print(\"Cluster subnet group already exists. This is ok.\")\n",
    "    else:\n",
    "        print(\"Unexpected error: %s\" % e)"
   ]
  },
  {
   "cell_type": "code",
   "execution_count": null,
   "metadata": {},
   "outputs": [],
   "source": [
    "try:\n",
    "    response = redshift.create_cluster(\n",
    "            DBName=database_name,\n",
    "            ClusterIdentifier=redshift_cluster_identifier,\n",
    "            ClusterType=cluster_type,\n",
    "            NodeType=node_type,\n",
    "    #         NumberOfNodes=int(number_nodes),       # This is required if multi-node is specified\n",
    "            ClusterSubnetGroupName='bankdemo-subnet',\n",
    "            MasterUsername=master_user_name,\n",
    "            MasterUserPassword=master_user_pw,\n",
    "            IamRoles=[iam_role_redshift_arn],\n",
    "            VpcSecurityGroupIds=[security_group_id],\n",
    "            Port=5439,\n",
    "            PubliclyAccessible=False\n",
    "    )\n",
    "    \n",
    "except ClientError as e:\n",
    "    if e.response['Error']['Code'] == 'ClusterAlreadyExists':\n",
    "        print(\"Cluster already exists. This is ok.\")\n",
    "    else:\n",
    "        print(\"Unexpected error: %s\" % e)"
   ]
  },
  {
   "cell_type": "markdown",
   "metadata": {},
   "source": [
    "#### Please Wait for Cluster Status to change to `Available`"
   ]
  },
  {
   "cell_type": "code",
   "execution_count": null,
   "metadata": {},
   "outputs": [],
   "source": [
    "response = redshift.describe_clusters(ClusterIdentifier=redshift_cluster_identifier)\n",
    "cluster_status = response['Clusters'][0]['ClusterStatus']\n",
    "print(cluster_status)\n",
    "\n",
    "while cluster_status != 'available':\n",
    "    time.sleep(10)\n",
    "    response = redshift.describe_clusters(ClusterIdentifier=redshift_cluster_identifier)\n",
    "    cluster_status = response['Clusters'][0]['ClusterStatus']\n",
    "    print(cluster_status)"
   ]
  },
  {
   "cell_type": "code",
   "execution_count": null,
   "metadata": {},
   "outputs": [],
   "source": [
    "response = redshift.describe_clusters(ClusterIdentifier=redshift_cluster_identifier)\n",
    "host = response['Clusters'][0]['Endpoint']['Address']\n",
    "port = response['Clusters'][0]['Endpoint']['Port']\n",
    "print(host)"
   ]
  },
  {
   "cell_type": "markdown",
   "metadata": {},
   "source": [
    "### Create Secret in Secrets Manager\n",
    "\n",
    "Add RedShift, Athena and Glue information to the secret. \n",
    "\n",
    "Note: If the secret already exists and you are creating the RedShift cluster again, the secret will not be updated to the new password. Please update the password manually in Secrets Manager.\n",
    "This is to prevent accidential update to the secret."
   ]
  },
  {
   "cell_type": "code",
   "execution_count": null,
   "metadata": {},
   "outputs": [],
   "source": [
    "secretstring = f'\"username\":\"{master_user_name}\",\"password\":\"{master_user_pw}\",\"engine\":\"redshift\", \\\n",
    "\"host\":\"{host}\",\"port\": \"{port}\",\"dbClusterIdentifier\":\"{redshift_cluster_identifier}\", \"db\":\"{database_name}\", \\\n",
    "\"database_name_redshift\":\"{database_name_redshift}\",\"database_name_glue\": \"{database_name_glue}\", \\\n",
    "\"schema_redshift\":\"{schema_redshift}\", \"schema_athena\":\"{schema_athena}\", \\\n",
    "\"table_name_glue\":\"{table_name_glue}\", \"table_name_redshift\":\"{table_name_redshift}\"'\n",
    "\n",
    "secretstring "
   ]
  },
  {
   "cell_type": "code",
   "execution_count": null,
   "metadata": {},
   "outputs": [],
   "source": [
    "try:\n",
    "    response = secretsmanager.create_secret(\n",
    "        Name=secret_name,\n",
    "        Description='BankDemo Redshift Login',\n",
    "        SecretString= '{' + secretstring + '}',\n",
    "    )\n",
    "except ClientError as e:\n",
    "    if e.response['Error']['Code'] == 'ResourceExistsException':\n",
    "        print(\"Secret already exists. If you are recreating the RedShift cluster, please update the password manually \")\n",
    "    else:\n",
    "        print(\"Unexpected error: %s\" % e)"
   ]
  },
  {
   "cell_type": "code",
   "execution_count": null,
   "metadata": {},
   "outputs": [],
   "source": []
  }
 ],
 "metadata": {
  "instance_type": "ml.t3.medium",
  "kernelspec": {
   "display_name": "Python 3 (Data Science)",
   "language": "python",
   "name": "python3__SAGEMAKER_INTERNAL__arn:aws:sagemaker:ap-southeast-1:492261229750:image/datascience-1.0"
  },
  "language_info": {
   "codemirror_mode": {
    "name": "ipython",
    "version": 3
   },
   "file_extension": ".py",
   "mimetype": "text/x-python",
   "name": "python",
   "nbconvert_exporter": "python",
   "pygments_lexer": "ipython3",
   "version": "3.7.10"
  }
 },
 "nbformat": 4,
 "nbformat_minor": 4
}
